{
 "cells": [
  {
   "cell_type": "markdown",
   "id": "e877ad66-3217-42a2-a8aa-e2027d69c7a5",
   "metadata": {},
   "source": [
    "# Basic Example\n",
    "\n",
    "**Demonstrating current iteration of tablevault: command line version**\n",
    "\n"
   ]
  },
  {
   "cell_type": "markdown",
   "id": "d8cf1618-baf5-4a92-a2a1-d93687b293eb",
   "metadata": {},
   "source": [
    "# Setup\n",
    "\n",
    "Installing package:\n",
    "\n",
    "- Download from Github repository and build\n",
    "- Add OpenAI Key to appropriate location"
   ]
  },
  {
   "cell_type": "markdown",
   "id": "019f0b8f-e392-40d2-9aed-38b69a1d52a2",
   "metadata": {},
   "source": [
    "# General Functionalities\n",
    "\n",
    "- Every Table Modification is Logged\n",
    "- Multi-Process Safe -> Locking supports Single Writes and Multiple Reads\n",
    "- Re-start Safe (as long as operation is logged, the operation will execute function as intended):\n",
    "- Robust Versioning\n",
    "- Granualar (Manual) History Tracking\n",
    "- Inter-Table Linking (Similar to Foriegn Keys)\n",
    "- Allow both Row and Column Table Updates"
   ]
  },
  {
   "cell_type": "markdown",
   "id": "ae9d6b24-29b7-4f32-b1ec-a3b5248a9c7e",
   "metadata": {},
   "source": [
    "# Initial/External Data\n",
    "- Yaml Files\n",
    "- Data Source (pdf): OpenAI generated short story. \n",
    "- OpenAI API Key"
   ]
  },
  {
   "cell_type": "markdown",
   "id": "569c5798-ff4e-45b0-a54a-473a257fd5f8",
   "metadata": {},
   "source": [
    "## Example YAML Files"
   ]
  },
  {
   "cell_type": "code",
   "execution_count": 1,
   "id": "fa55630e-0e9b-487a-a0d2-ed30ca8898b4",
   "metadata": {},
   "outputs": [
    {
     "data": {
      "text/plain": [
       "{'type': 'code',\n",
       " 'dependencies': [],\n",
       " 'changed_columns': ['paper_name', 'paper_path'],\n",
       " 'function': 'create_paper_table_from_folder',\n",
       " 'code_file': 'table_generation.py',\n",
       " 'is_global': True,\n",
       " 'is_udf': False,\n",
       " 'arguments': {'folder_dir': './test_data/stories', 'copies': 1},\n",
       " 'table_creation': True,\n",
       " 'n_threads': 1}"
      ]
     },
     "execution_count": 1,
     "metadata": {},
     "output_type": "execute_result"
    }
   ],
   "source": [
    "import yaml\n",
    "# Table Generation File\n",
    "rel_path = './test_data/test_data_db/stories/fetch_stories.yaml'\n",
    "\n",
    "with open(rel_path, \"r\") as file:\n",
    "    yaml_data = yaml.safe_load(file)\n",
    "yaml_data"
   ]
  },
  {
   "cell_type": "code",
   "execution_count": 2,
   "id": "03c33b1b-572f-4e40-a673-17a3da899df9",
   "metadata": {},
   "outputs": [
    {
     "data": {
      "text/plain": [
       "{'type': 'code',\n",
       " 'dependencies': ['self.paper_name',\n",
       "  'stories.paper_name',\n",
       "  'stories.paper_path'],\n",
       " 'changed_columns': ['openai_id'],\n",
       " 'function': 'upload_file_from_table',\n",
       " 'code_file': 'open_ai_store.py',\n",
       " 'is_global': True,\n",
       " 'is_udf': True,\n",
       " 'arguments': {'file_path': '<<stories.paper_path[paper_name:self.paper_name]>>',\n",
       "  'key_file': './open_ai_key/key.txt'},\n",
       " 'n_threads': 1}"
      ]
     },
     "execution_count": 2,
     "metadata": {},
     "output_type": "execute_result"
    }
   ],
   "source": [
    "# Code Execution File\n",
    "\n",
    "rel_path = './test_data/test_data_db/llm_storage/upload_openai.yaml'\n",
    "\n",
    "with open(rel_path, \"r\") as file:\n",
    "    yaml_data = yaml.safe_load(file)\n",
    "yaml_data"
   ]
  },
  {
   "cell_type": "code",
   "execution_count": 3,
   "id": "99bd8ff2-5572-413e-98a2-f5bfec6de5dd",
   "metadata": {},
   "outputs": [
    {
     "data": {
      "text/plain": [
       "{'type': 'llm',\n",
       " 'dependencies': ['llm_storage.openai_id',\n",
       "  'llm_storage.paper_name',\n",
       "  'self.paper_name'],\n",
       " 'changed_columns': ['q3'],\n",
       " 'retry': 5,\n",
       " 'n_threads': 1,\n",
       " 'context_files': ['<<llm_storage.openai_id[paper_name:self.paper_name]>>'],\n",
       " 'context_msgs': ['Use this story to answer questions'],\n",
       " 'questions': ['Would you best classify Clara as a: CATEGORIES?'],\n",
       " 'open_ai_key': './open_ai_key/key.txt',\n",
       " 'output_type': 'category',\n",
       " 'entity_name': 'motivations',\n",
       " 'category_names': ['Protagonist seeking knowledge',\n",
       "  'Reckless adventurer',\n",
       "  'Reluctant hero forced into action',\n",
       "  'Naive child learning responsibility'],\n",
       " 'model': 'gpt-4o-mini',\n",
       " 'temperature': 0.2}"
      ]
     },
     "execution_count": 3,
     "metadata": {},
     "output_type": "execute_result"
    }
   ],
   "source": [
    "# LLM Execution File (Only support OpenAI Threads for now)\n",
    "\n",
    "rel_path = './test_data/test_data_db/llm_questions/question_3.yaml'\n",
    "\n",
    "with open(rel_path, \"r\") as file:\n",
    "    yaml_data = yaml.safe_load(file)\n",
    "yaml_data"
   ]
  },
  {
   "cell_type": "markdown",
   "id": "187df9a2-f66e-46fe-be22-c2fbc81d60ce",
   "metadata": {},
   "source": [
    "# Make Base Folder"
   ]
  },
  {
   "cell_type": "code",
   "execution_count": 19,
   "id": "4f985722-f366-44e0-8626-263ce77c05db",
   "metadata": {},
   "outputs": [],
   "source": [
    "# Command to initialize folder\n",
    "\n",
    "!tablevault database -db test_database -r"
   ]
  },
  {
   "cell_type": "code",
   "execution_count": 54,
   "id": "e6647c3d-a871-4225-ab7a-25c8a93116fa",
   "metadata": {},
   "outputs": [
    {
     "name": "stdout",
     "output_type": "stream",
     "text": [
      " 📁 llm_questions\n",
      "     📁 TEMP_version_1\n",
      "         📄 table.csv\n",
      "         📁 prompts\n",
      "             📄 fetch_llm_question.yaml\n",
      "             📄 question_1.yaml\n",
      "             📄 question_2.yaml\n",
      "             📄 description.yaml\n",
      "             📄 question_3.yaml\n",
      "     📁 version_1_1738336233_URPVb\n",
      "         📄 table.csv\n",
      "         📁 prompts\n",
      "             📄 fetch_llm_question.yaml\n",
      "             📄 question_1.yaml\n",
      "             📄 question_2.yaml\n",
      "             📄 description.yaml\n",
      "             📄 question_3.yaml\n",
      "     📁 prompts\n",
      "         📄 fetch_llm_question.yaml\n",
      "         📄 question_1_multi.yaml\n",
      "         📄 question_1.yaml\n",
      "         📄 question_2.yaml\n",
      "         📄 question_3.yaml\n",
      "         📄 question_1a.yaml\n",
      " 📁 locks\n",
      "     📁 llm_questions\n",
      "         📄 version_1_1738336233_URPVb.lock\n",
      "         📄 llm_questions.lock\n",
      "         📄 TEMP_version_1.lock\n",
      "     📄 DATABASE.lock\n",
      "     📁 RESTART\n",
      "         📄 RESTART.lock\n",
      "     📁 stories\n",
      "         📄 TEMP_.lock\n",
      "         📄 _1738336171_Fbikh.lock\n",
      "         📄 stories.lock\n",
      " 📁 stories\n",
      "     📁 TEMP_\n",
      "         📄 table.csv\n",
      "         📁 prompts\n",
      "             📄 fetch_stories.yaml\n",
      "             📄 description.yaml\n",
      "     📁 prompts\n",
      "         📄 fetch_stories_5.yaml\n",
      "         📄 fetch_stories.yaml\n",
      " 📁 metadata\n",
      "     📄 active_log.json\n",
      "     📄 log.txt\n",
      "     📄 tables_history.json\n",
      "     📄 LOG.lock\n",
      "     📄 tables_multiple.json\n",
      "     📄 columns_history.json\n",
      " 📁 code_functions\n"
     ]
    }
   ],
   "source": [
    "# View current folder structure\n",
    "import os\n",
    "\n",
    "def print_directory_tree(root_dir, indent=\" \", files = True):\n",
    "    for item in os.listdir(root_dir):\n",
    "        path = os.path.join(root_dir, item)\n",
    "        if os.path.isdir(path):\n",
    "            print(indent + \"📁 \" + item)\n",
    "            print_directory_tree(path, indent + \"    \", files)\n",
    "        else:\n",
    "            if files:\n",
    "                print(indent + \"📄 \" + item)\n",
    "\n",
    "\n",
    "print_directory_tree(root_dir = 'test_database', indent=\" \")"
   ]
  },
  {
   "cell_type": "markdown",
   "id": "355ee620-b6d6-4149-b0e5-fe13ee1980eb",
   "metadata": {
    "jp-MarkdownHeadingCollapsed": true
   },
   "source": [
    "# Make Table Folders"
   ]
  },
  {
   "cell_type": "code",
   "execution_count": 21,
   "id": "b9a4ddbb-a863-47ca-a58e-af86c36ccb98",
   "metadata": {},
   "outputs": [],
   "source": [
    "# Commands to initialize table folders\n",
    "\n",
    "! tablevault setup-table -db test_database -t stories\n",
    "\n",
    "! tablevault setup-table -db test_database -t llm_storage\n",
    "\n",
    "! tablevault setup-table -db test_database -t llm_questions -m # allow multiple active versions for different versioning testing"
   ]
  },
  {
   "cell_type": "code",
   "execution_count": 22,
   "id": "b372ea21-a5ed-4a19-aa9b-18169224e080",
   "metadata": {},
   "outputs": [
    {
     "name": "stdout",
     "output_type": "stream",
     "text": [
      " 📁 llm_questions\n",
      "     📁 prompts\n",
      " 📁 locks\n",
      "     📁 llm_questions\n",
      "         📄 llm_questions.lock\n",
      "     📄 DATABASE.lock\n",
      "     📁 RESTART\n",
      "         📄 RESTART.lock\n",
      "     📁 llm_storage\n",
      "         📄 llm_storage.lock\n",
      "     📁 stories\n",
      "         📄 stories.lock\n",
      " 📁 llm_storage\n",
      "     📁 prompts\n",
      " 📁 stories\n",
      "     📁 prompts\n",
      " 📁 metadata\n",
      "     📄 active_log.json\n",
      "     📄 log.txt\n",
      "     📄 tables_history.json\n",
      "     📄 LOG.lock\n",
      "     📄 tables_multiple.json\n",
      "     📄 columns_history.json\n",
      " 📁 code_functions\n"
     ]
    }
   ],
   "source": [
    "# View Current folder structure\n",
    "\n",
    "print_directory_tree(root_dir = 'test_database', indent=\" \")"
   ]
  },
  {
   "cell_type": "code",
   "execution_count": 23,
   "id": "94cf925f-1ea3-457f-89a9-57e332c34c3b",
   "metadata": {},
   "outputs": [
    {
     "name": "stdout",
     "output_type": "stream",
     "text": [
      "{\"process_id\": \"b2945c09-5666-479f-90d1-cf7978cf4677\", \"author\": \"command_line\", \"start_time\": 1738336152.337733, \"log_time\": 1738336152.3392901, \"table_name\": \"stories\", \"instance_id\": \"\", \"restarts\": [], \"operation\": \"setup_table\", \"complete_steps\": [\"write_log\"], \"step_times\": [1738336152.338526], \"data\": {\"allow_multiple\": false}, \"success\": true}\n",
      "{\"process_id\": \"a1abb1de-b12a-49c3-a2a5-6606ed1f13fd\", \"author\": \"command_line\", \"start_time\": 1738336152.93056, \"log_time\": 1738336152.9323149, \"table_name\": \"llm_storage\", \"instance_id\": \"\", \"restarts\": [], \"operation\": \"setup_table\", \"complete_steps\": [\"write_log\"], \"step_times\": [1738336152.931417], \"data\": {\"allow_multiple\": false}, \"success\": true}\n",
      "{\"process_id\": \"b6620f3e-b760-412b-8493-9a6f592fa123\", \"author\": \"command_line\", \"start_time\": 1738336153.520171, \"log_time\": 1738336153.5217128, \"table_name\": \"llm_questions\", \"instance_id\": \"\", \"restarts\": [], \"operation\": \"setup_table\", \"complete_steps\": [\"write_log\"], \"step_times\": [1738336153.5210261], \"data\": {\"allow_multiple\": true}, \"success\": true}\n",
      "\n"
     ]
    }
   ],
   "source": [
    "# View example log and metadata files\n",
    "log_file = 'test_database/metadata/log.txt'\n",
    "with open(log_file, 'r') as f:\n",
    "    content = f.read()\n",
    "    print(content)"
   ]
  },
  {
   "cell_type": "code",
   "execution_count": 24,
   "id": "8bce9de4-5131-4c55-b0db-a7f234294686",
   "metadata": {},
   "outputs": [
    {
     "name": "stdout",
     "output_type": "stream",
     "text": [
      "{'stories': False, 'llm_storage': False, 'llm_questions': True}\n"
     ]
    }
   ],
   "source": [
    "import json\n",
    "log_file = 'test_database/metadata/tables_multiple.json'\n",
    "with open(log_file, 'r') as f:\n",
    "    content = json.load(f)\n",
    "    print(content)"
   ]
  },
  {
   "cell_type": "markdown",
   "id": "2e6cff57-18f8-43c2-b385-aab78c86e0db",
   "metadata": {},
   "source": [
    "**Example Active Log**\n",
    "\n",
    "Shown in text because file deleted once executed."
   ]
  },
  {
   "cell_type": "raw",
   "id": "e368ca40-a3c8-460a-890f-b7ef75d935bf",
   "metadata": {},
   "source": [
    "{\n",
    "    \"5454a096-6883-4983-972a-29709be3a5fb\": {\n",
    "        \"process_id\": \"5454a096-6883-4983-972a-29709be3a5fb\",\n",
    "        \"author\": \"command_line\",\n",
    "        \"start_time\": 1738332780.51158,\n",
    "        \"log_time\": 1738332780.51158,\n",
    "        \"table_name\": \"stories\",\n",
    "        \"instance_id\": \"\",\n",
    "        \"restarts\": [],\n",
    "        \"operation\": \"setup_table\",\n",
    "        \"complete_steps\": [],\n",
    "        \"step_times\": [],\n",
    "        \"data\": {\n",
    "            \"allow_multiple\": false\n",
    "        },\n",
    "        \"success\": null\n",
    "    }\n",
    "}\n"
   ]
  },
  {
   "cell_type": "markdown",
   "id": "76e2c399-7c5a-4c47-9a93-064ac4f6364f",
   "metadata": {},
   "source": [
    "# Make Table Instances"
   ]
  },
  {
   "cell_type": "markdown",
   "id": "f789b975-8ac5-4c36-9ea4-f3d16f9a87e6",
   "metadata": {},
   "source": [
    "## First we add the prompts to the data table \"prompts\" directories"
   ]
  },
  {
   "cell_type": "code",
   "execution_count": 25,
   "id": "f9fc2250-c5c7-4726-9c97-9cc392eca463",
   "metadata": {},
   "outputs": [],
   "source": [
    "import shutil\n",
    "\n",
    "def copy_files_to_table(base_dir, db_dir, table_name):\n",
    "    org_path = os.path.join(base_dir, table_name)\n",
    "    new_path = os.path.join(db_dir, table_name)\n",
    "    new_path = os.path.join(new_path, 'prompts')\n",
    "    for file in os.listdir(org_path):\n",
    "        if file.endswith('.yaml'):\n",
    "            org_path_ = os.path.join(org_path, file)\n",
    "            new_path_ = os.path.join(new_path, file)\n",
    "            if os.path.exists(new_path_):\n",
    "                os.remove(new_path_)\n",
    "            shutil.copy2(org_path_, new_path_)\n",
    "\n",
    "yaml_base_dir = './test_data/test_data_db'\n",
    "db_dire = './test_database'\n",
    "\n",
    "copy_files_to_table(yaml_base_dir, db_dire, \"stories\")\n",
    "copy_files_to_table(yaml_base_dir, db_dire, \"llm_storage\")\n",
    "copy_files_to_table(yaml_base_dir, db_dire, \"llm_questions\")"
   ]
  },
  {
   "cell_type": "markdown",
   "id": "96d47b65-0bc2-48cf-b059-d762eb51c534",
   "metadata": {},
   "source": [
    "## Then we make instances with specified prompts"
   ]
  },
  {
   "cell_type": "code",
   "execution_count": 26,
   "id": "9205b7a8-ab6e-4b4a-ad5d-28b0d4fbd24b",
   "metadata": {},
   "outputs": [],
   "source": [
    "# Make Temporary (Not executed) Instances\n",
    "\n",
    "!tablevault setup-temp -db test_database -t stories -p fetch_stories -gp fetch_stories\n",
    "\n",
    "!tablevault setup-temp -db test_database -t llm_storage -p fetch_llm_storage -p upload_openai -gp fetch_llm_storage\n",
    "\n",
    "!tablevault setup-temp -db test_database -t llm_questions -v version_1 \\\n",
    "-p fetch_llm_question -p question_1 -p question_2 -p  question_3 -gp fetch_llm_question\n"
   ]
  },
  {
   "cell_type": "code",
   "execution_count": 27,
   "id": "bd696e32-a53b-48d1-a8e8-047fbe91dee4",
   "metadata": {},
   "outputs": [
    {
     "name": "stdout",
     "output_type": "stream",
     "text": [
      " 📁 TEMP_\n",
      "     📄 table.csv\n",
      "     📁 prompts\n",
      "         📄 fetch_stories.yaml\n",
      "         📄 description.yaml\n",
      " 📁 prompts\n",
      "     📄 fetch_stories_5.yaml\n",
      "     📄 fetch_stories.yaml\n"
     ]
    }
   ],
   "source": [
    "# View Current Folder Structure\n",
    "print_directory_tree(root_dir = 'test_database/stories', indent=\" \")"
   ]
  },
  {
   "cell_type": "code",
   "execution_count": 28,
   "id": "5f5e8ef3-084f-4286-b421-050ddcfbe4d6",
   "metadata": {},
   "outputs": [
    {
     "data": {
      "text/plain": [
       "{'copied_prompts': ['fetch_stories'], 'table_generator': 'fetch_stories'}"
      ]
     },
     "execution_count": 28,
     "metadata": {},
     "output_type": "execute_result"
    }
   ],
   "source": [
    "\n",
    "rel_path = './test_database/stories/TEMP_/prompts/description.yaml'\n",
    "\n",
    "with open(rel_path, \"r\") as file:\n",
    "    yaml_data = yaml.safe_load(file)\n",
    "yaml_data"
   ]
  },
  {
   "cell_type": "markdown",
   "id": "39850679-08e1-4e42-b0a2-2db14098005e",
   "metadata": {},
   "source": [
    "# Execute Table Instances"
   ]
  },
  {
   "cell_type": "code",
   "execution_count": 30,
   "id": "5ae34de5-e434-43a0-bf07-4acc7e3f98fe",
   "metadata": {},
   "outputs": [
    {
     "name": "stdout",
     "output_type": "stream",
     "text": [
      "PARSED DEPENDENCIES AND TO EXECUTE PROMPTS\n",
      "{'all_columns': ['paper_name', 'paper_path'],\n",
      " 'external_deps': {'fetch_stories': []},\n",
      " 'gen_columns': ['paper_name', 'paper_path'],\n",
      " 'internal_prompt_deps': {'fetch_stories': []},\n",
      " 'origin': None,\n",
      " 'perm_instance_id': '_1738336210_hUshR',\n",
      " 'start_time': 1738336210.472285,\n",
      " 'to_change_columns': ['paper_name', 'paper_path'],\n",
      " 'to_execute': ['fetch_stories'],\n",
      " 'top_pnames': ['fetch_stories']}\n",
      "execute code\n",
      "FINISHED STEP\n",
      "fetch_stories\n",
      "FINISHED INSTANCE: _1738336210_hUshR\n",
      " 📁 _1738336210_hUshR\n",
      "     📄 table.csv\n",
      "     📁 prompts\n",
      "         📄 fetch_stories.yaml\n",
      "         📄 description.yaml\n",
      " 📁 prompts\n",
      "     📄 fetch_stories_5.yaml\n",
      "     📄 fetch_stories.yaml\n"
     ]
    }
   ],
   "source": [
    "# Make PDF Table\n",
    "! tablevault execute -db test_database -t stories\n",
    "print_directory_tree(root_dir = 'test_database/stories', indent=\" \")"
   ]
  },
  {
   "cell_type": "code",
   "execution_count": 31,
   "id": "468f14ba-03be-42fc-9923-c719c185d1cd",
   "metadata": {},
   "outputs": [
    {
     "data": {
      "text/html": [
       "<div>\n",
       "<style scoped>\n",
       "    .dataframe tbody tr th:only-of-type {\n",
       "        vertical-align: middle;\n",
       "    }\n",
       "\n",
       "    .dataframe tbody tr th {\n",
       "        vertical-align: top;\n",
       "    }\n",
       "\n",
       "    .dataframe thead th {\n",
       "        text-align: right;\n",
       "    }\n",
       "</style>\n",
       "<table border=\"1\" class=\"dataframe\">\n",
       "  <thead>\n",
       "    <tr style=\"text-align: right;\">\n",
       "      <th></th>\n",
       "      <th>paper_name</th>\n",
       "      <th>paper_path</th>\n",
       "    </tr>\n",
       "  </thead>\n",
       "  <tbody>\n",
       "    <tr>\n",
       "      <th>0</th>\n",
       "      <td>The_Clockmakers_Secret</td>\n",
       "      <td>./test_data/stories/The_Clockmakers_Secret.pdf</td>\n",
       "    </tr>\n",
       "  </tbody>\n",
       "</table>\n",
       "</div>"
      ],
      "text/plain": [
       "               paper_name                                      paper_path\n",
       "0  The_Clockmakers_Secret  ./test_data/stories/The_Clockmakers_Secret.pdf"
      ]
     },
     "execution_count": 31,
     "metadata": {},
     "output_type": "execute_result"
    }
   ],
   "source": [
    "import pandas as pd\n",
    "df_path = 'test_database/stories/_1738336210_hUshR/table.csv'\n",
    "df = pd.read_csv(df_path)\n",
    "df"
   ]
  },
  {
   "cell_type": "code",
   "execution_count": 32,
   "id": "2150e2fe-b333-4c4c-978c-43931d5daa01",
   "metadata": {},
   "outputs": [
    {
     "name": "stdout",
     "output_type": "stream",
     "text": [
      "PARSED DEPENDENCIES AND TO EXECUTE PROMPTS\n",
      "{'all_columns': ['paper_name', 'openai_id'],\n",
      " 'external_deps': {'fetch_llm_storage': [('stories',\n",
      "                                          'paper_name',\n",
      "                                          '_1738336210_hUshR',\n",
      "                                          1738336210.48013,\n",
      "                                          True)],\n",
      "                   'upload_openai': [('stories',\n",
      "                                      'paper_name',\n",
      "                                      '_1738336210_hUshR',\n",
      "                                      1738336210.48013,\n",
      "                                      True),\n",
      "                                     ('stories',\n",
      "                                      'paper_path',\n",
      "                                      '_1738336210_hUshR',\n",
      "                                      1738336210.48013,\n",
      "                                      True)]},\n",
      " 'gen_columns': ['paper_name'],\n",
      " 'internal_prompt_deps': {'fetch_llm_storage': [],\n",
      "                          'upload_openai': ['paper_name']},\n",
      " 'origin': None,\n",
      " 'perm_instance_id': '_1738336228_ltwSq',\n",
      " 'start_time': 1738336228.2127712,\n",
      " 'to_change_columns': ['paper_name', 'openai_id'],\n",
      " 'to_execute': ['fetch_llm_storage', 'upload_openai'],\n",
      " 'top_pnames': ['fetch_llm_storage', 'upload_openai']}\n",
      "execute code\n",
      "FINISHED STEP\n",
      "fetch_llm_storage\n",
      "FINISHED STEP\n",
      "upload_openai\n",
      "FINISHED INSTANCE: _1738336228_ltwSq\n"
     ]
    }
   ],
   "source": [
    "# Make OpenAI Storage File (upload pdf to OpenAI) (Allow Multiple Threads)\n",
    "! tablevault execute -db test_database -t llm_storage"
   ]
  },
  {
   "cell_type": "code",
   "execution_count": 35,
   "id": "2c29ef79-1d81-4d10-8e12-eb7ced0735b7",
   "metadata": {},
   "outputs": [
    {
     "data": {
      "text/html": [
       "<div>\n",
       "<style scoped>\n",
       "    .dataframe tbody tr th:only-of-type {\n",
       "        vertical-align: middle;\n",
       "    }\n",
       "\n",
       "    .dataframe tbody tr th {\n",
       "        vertical-align: top;\n",
       "    }\n",
       "\n",
       "    .dataframe thead th {\n",
       "        text-align: right;\n",
       "    }\n",
       "</style>\n",
       "<table border=\"1\" class=\"dataframe\">\n",
       "  <thead>\n",
       "    <tr style=\"text-align: right;\">\n",
       "      <th></th>\n",
       "      <th>paper_name</th>\n",
       "      <th>openai_id</th>\n",
       "    </tr>\n",
       "  </thead>\n",
       "  <tbody>\n",
       "    <tr>\n",
       "      <th>0</th>\n",
       "      <td>The_Clockmakers_Secret</td>\n",
       "      <td>file-LffagJ4CsHeE4Z4phAsW7Q</td>\n",
       "    </tr>\n",
       "  </tbody>\n",
       "</table>\n",
       "</div>"
      ],
      "text/plain": [
       "               paper_name                    openai_id\n",
       "0  The_Clockmakers_Secret  file-LffagJ4CsHeE4Z4phAsW7Q"
      ]
     },
     "execution_count": 35,
     "metadata": {},
     "output_type": "execute_result"
    }
   ],
   "source": [
    "# View Table\n",
    "df_path = 'test_database/llm_storage/_1738336228_ltwSq/table.csv'\n",
    "df = pd.read_csv(df_path)\n",
    "df"
   ]
  },
  {
   "cell_type": "code",
   "execution_count": 33,
   "id": "0d7e8e22-e9b8-4f5a-9bf3-b5983f863f44",
   "metadata": {},
   "outputs": [
    {
     "name": "stdout",
     "output_type": "stream",
     "text": [
      "PARSED DEPENDENCIES AND TO EXECUTE PROMPTS\n",
      "{'all_columns': ['paper_name', 'q1', 'q3_1', 'q3', 'q2_1', 'q2'],\n",
      " 'external_deps': {'fetch_llm_question': [('stories',\n",
      "                                           'paper_name',\n",
      "                                           '_1738336210_hUshR',\n",
      "                                           1738336210.48013,\n",
      "                                           True)],\n",
      "                   'question_1': [('llm_storage',\n",
      "                                   'openai_id',\n",
      "                                   '_1738336228_ltwSq',\n",
      "                                   1738336229.295321,\n",
      "                                   True),\n",
      "                                  ('llm_storage',\n",
      "                                   'paper_name',\n",
      "                                   '_1738336228_ltwSq',\n",
      "                                   1738336229.295321,\n",
      "                                   True)],\n",
      "                   'question_2': [('llm_storage',\n",
      "                                   'openai_id',\n",
      "                                   '_1738336228_ltwSq',\n",
      "                                   1738336229.295321,\n",
      "                                   True),\n",
      "                                  ('llm_storage',\n",
      "                                   'paper_name',\n",
      "                                   '_1738336228_ltwSq',\n",
      "                                   1738336229.295321,\n",
      "                                   True)],\n",
      "                   'question_3': [('llm_storage',\n",
      "                                   'openai_id',\n",
      "                                   '_1738336228_ltwSq',\n",
      "                                   1738336229.295321,\n",
      "                                   True),\n",
      "                                  ('llm_storage',\n",
      "                                   'paper_name',\n",
      "                                   '_1738336228_ltwSq',\n",
      "                                   1738336229.295321,\n",
      "                                   True)]},\n",
      " 'gen_columns': ['paper_name'],\n",
      " 'internal_prompt_deps': {'fetch_llm_question': [],\n",
      "                          'question_1': ['paper_name'],\n",
      "                          'question_2': ['paper_name', 'q3', 'q1'],\n",
      "                          'question_3': ['paper_name']},\n",
      " 'origin': None,\n",
      " 'perm_instance_id': 'version_1_1738336233_URPVb',\n",
      " 'start_time': 1738336233.75906,\n",
      " 'to_change_columns': ['paper_name', 'q1', 'q3_1', 'q3', 'q2_1', 'q2'],\n",
      " 'to_execute': ['fetch_llm_question', 'question_1', 'question_3', 'question_2'],\n",
      " 'top_pnames': ['fetch_llm_question', 'question_1', 'question_3', 'question_2']}\n",
      "execute code\n",
      "FINISHED STEP\n",
      "fetch_llm_question\n",
      "FINISHED STEP\n",
      "question_1\n",
      "FINISHED STEP\n",
      "question_3\n",
      "FINISHED STEP\n",
      "question_2\n",
      "FINISHED INSTANCE: version_1_1738336233_URPVb\n"
     ]
    }
   ],
   "source": [
    "# Make LLM Question Response Table (Allow Multiple Threads)\n",
    "! tablevault execute -db test_database -t llm_questions -v version_1"
   ]
  },
  {
   "cell_type": "code",
   "execution_count": 37,
   "id": "4a76f6f7-0d75-463b-abef-7199b6c32fc3",
   "metadata": {},
   "outputs": [
    {
     "data": {
      "text/html": [
       "<div>\n",
       "<style scoped>\n",
       "    .dataframe tbody tr th:only-of-type {\n",
       "        vertical-align: middle;\n",
       "    }\n",
       "\n",
       "    .dataframe tbody tr th {\n",
       "        vertical-align: top;\n",
       "    }\n",
       "\n",
       "    .dataframe thead th {\n",
       "        text-align: right;\n",
       "    }\n",
       "</style>\n",
       "<table border=\"1\" class=\"dataframe\">\n",
       "  <thead>\n",
       "    <tr style=\"text-align: right;\">\n",
       "      <th></th>\n",
       "      <th>paper_name</th>\n",
       "      <th>q1</th>\n",
       "      <th>q3_1</th>\n",
       "      <th>q3</th>\n",
       "      <th>q2_1</th>\n",
       "      <th>q2</th>\n",
       "    </tr>\n",
       "  </thead>\n",
       "  <tbody>\n",
       "    <tr>\n",
       "      <th>0</th>\n",
       "      <td>The_Clockmakers_Secret</td>\n",
       "      <td>Clara's curiosity is a driving force in her journey and development throughout the story. Initially, her inquisitive nature leads her to discover the clockmaker's shop, a place that seems to reveal itself only to those who truly need it. This curiosity propels her into a world filled with magical clocks that not only measure time but also shape it, challenging her understanding of reality【5:1†source】.\\n\\nAs Clara visits the shop repeatedly, her curiosity deepens, allowing her to learn about the intricate workings of the clocks and the responsibilities that come with such knowledge. She is entrusted with small tasks by Percival Hawthorne, the clockmaker, which signifies her growing involvement and trustworthiness【5:0†source】. However, her curiosity also leads her to the forbidden Master Clock, where her desire to explore the unknown results in a significant disruption of time itself. This pivotal moment serves as a catalyst for her growth, forcing her to confront the consequences of her actions and the complexities of time【5:0†source】.\\n\\nThrough her journey, Clara learns valuable lessons about the nature of time, the importance of choices, and the impact of her actions on the world around her. By the end of the story, she emerges with a deeper understanding of time as a precious gift, carrying the lessons from her adventure into her future【5:0†source】. Clara's curiosity, while initially a source of wonder, ultimately becomes a means of personal growth and maturity as she navigates the challenges that arise from her explorations.</td>\n",
       "      <td>Based on the story, Clara can best be classified as a **\"Protagonist seeking knowledge.\"** Throughout the narrative, she exhibits a strong curiosity and a desire to explore the mysteries of time and the clocks in the shop. Her initial intrigue leads her to repeatedly visit the clockmaker's shop, where she learns about the special clocks and their powers. Although her actions lead to unintended consequences, her journey is driven by a quest for understanding and knowledge about time, rather than recklessness or reluctance【5:0†source】.</td>\n",
       "      <td>Protagonist seeking knowledge</td>\n",
       "      <td>Percival's motivation to help Clara, even after she disrupts time, can be attributed to several reasons:\\n\\n1. **Sense of Responsibility**: Percival feels a duty to guide Clara through the consequences of her actions. He understands the gravity of tampering with time and takes it upon himself to help her fix the chaos she has caused.\\n\\n2. **Mentorship**: Throughout their interactions, Percival has developed a mentor-mentee relationship with Clara. He has invested time in teaching her about the clocks and the nature of time, which likely motivates him to assist her in rectifying her mistake.\\n\\n3. **Empathy**: Percival shows a mix of anger and sorrow when Clara disrupts time, indicating that he empathizes with her plight. He recognizes that her actions were not malicious but stemmed from curiosity and a desire to learn.\\n\\n4. **Belief in Potential**: Percival may see potential in Clara. By helping her, he not only aids her in correcting her mistake but also helps her grow and learn from the experience, reinforcing the idea that mistakes can lead to valuable lessons.\\n\\n5. **Connection to Time**: As a clockmaker, Percival has a deep connection to the concept of time. His understanding of its complexities may drive him to ensure that time is restored to its proper flow, as it aligns with his life's work and passion.\\n\\nThese motivations reflect a blend of personal responsibility, mentorship, empathy, and a commitment to the integrity of time itself【5:0†source】.</td>\n",
       "      <td>['Sense of Responsibility', 'Mentorship', 'Empathy', 'Belief in Potential', 'Connection to Time']</td>\n",
       "    </tr>\n",
       "  </tbody>\n",
       "</table>\n",
       "</div>"
      ],
      "text/plain": [
       "               paper_name  \\\n",
       "0  The_Clockmakers_Secret   \n",
       "\n",
       "                                                                                                                                                                                                                                                                                                                                                                                                                                                                                                                                                                                                                                                                                                                                                                                                                                                                                                                                                                                                                                                                                                                                                                                                                                                                                                                                                                                                                                                                                                                                                                                                                   q1  \\\n",
       "0  Clara's curiosity is a driving force in her journey and development throughout the story. Initially, her inquisitive nature leads her to discover the clockmaker's shop, a place that seems to reveal itself only to those who truly need it. This curiosity propels her into a world filled with magical clocks that not only measure time but also shape it, challenging her understanding of reality【5:1†source】.\\n\\nAs Clara visits the shop repeatedly, her curiosity deepens, allowing her to learn about the intricate workings of the clocks and the responsibilities that come with such knowledge. She is entrusted with small tasks by Percival Hawthorne, the clockmaker, which signifies her growing involvement and trustworthiness【5:0†source】. However, her curiosity also leads her to the forbidden Master Clock, where her desire to explore the unknown results in a significant disruption of time itself. This pivotal moment serves as a catalyst for her growth, forcing her to confront the consequences of her actions and the complexities of time【5:0†source】.\\n\\nThrough her journey, Clara learns valuable lessons about the nature of time, the importance of choices, and the impact of her actions on the world around her. By the end of the story, she emerges with a deeper understanding of time as a precious gift, carrying the lessons from her adventure into her future【5:0†source】. Clara's curiosity, while initially a source of wonder, ultimately becomes a means of personal growth and maturity as she navigates the challenges that arise from her explorations.   \n",
       "\n",
       "                                                                                                                                                                                                                                                                                                                                                                                                                                                                                                                                                          q3_1  \\\n",
       "0  Based on the story, Clara can best be classified as a **\"Protagonist seeking knowledge.\"** Throughout the narrative, she exhibits a strong curiosity and a desire to explore the mysteries of time and the clocks in the shop. Her initial intrigue leads her to repeatedly visit the clockmaker's shop, where she learns about the special clocks and their powers. Although her actions lead to unintended consequences, her journey is driven by a quest for understanding and knowledge about time, rather than recklessness or reluctance【5:0†source】.   \n",
       "\n",
       "                              q3  \\\n",
       "0  Protagonist seeking knowledge   \n",
       "\n",
       "                                                                                                                                                                                                                                                                                                                                                                                                                                                                                                                                                                                                                                                                                                                                                                                                                                                                                                                                                                                                                                                                                                                                                                                                                                                                                                                                                                                                                                                                                                                                          q2_1  \\\n",
       "0  Percival's motivation to help Clara, even after she disrupts time, can be attributed to several reasons:\\n\\n1. **Sense of Responsibility**: Percival feels a duty to guide Clara through the consequences of her actions. He understands the gravity of tampering with time and takes it upon himself to help her fix the chaos she has caused.\\n\\n2. **Mentorship**: Throughout their interactions, Percival has developed a mentor-mentee relationship with Clara. He has invested time in teaching her about the clocks and the nature of time, which likely motivates him to assist her in rectifying her mistake.\\n\\n3. **Empathy**: Percival shows a mix of anger and sorrow when Clara disrupts time, indicating that he empathizes with her plight. He recognizes that her actions were not malicious but stemmed from curiosity and a desire to learn.\\n\\n4. **Belief in Potential**: Percival may see potential in Clara. By helping her, he not only aids her in correcting her mistake but also helps her grow and learn from the experience, reinforcing the idea that mistakes can lead to valuable lessons.\\n\\n5. **Connection to Time**: As a clockmaker, Percival has a deep connection to the concept of time. His understanding of its complexities may drive him to ensure that time is restored to its proper flow, as it aligns with his life's work and passion.\\n\\nThese motivations reflect a blend of personal responsibility, mentorship, empathy, and a commitment to the integrity of time itself【5:0†source】.   \n",
       "\n",
       "                                                                                                  q2  \n",
       "0  ['Sense of Responsibility', 'Mentorship', 'Empathy', 'Belief in Potential', 'Connection to Time']  "
      ]
     },
     "execution_count": 37,
     "metadata": {},
     "output_type": "execute_result"
    }
   ],
   "source": [
    "df_path = 'test_database/llm_questions/version_1_1738336233_URPVb/table.csv'\n",
    "pd.set_option(\"display.max_colwidth\", None)\n",
    "\n",
    "df = pd.read_csv(df_path)\n",
    "df"
   ]
  },
  {
   "cell_type": "markdown",
   "id": "8aa7b851-bc97-4149-acf2-c3fcd9f95bc3",
   "metadata": {},
   "source": [
    "# Table Versioning\n",
    "\n",
    "We automatically do not re-execute tables if there hasn't been any changes. We only execute cases where the rows (samples), columns (prompts), or dependencies (other tables) have changed by default. "
   ]
  },
  {
   "cell_type": "code",
   "execution_count": 40,
   "id": "77258932-1d66-40c2-bfa0-aba264ab7730",
   "metadata": {},
   "outputs": [
    {
     "name": "stdout",
     "output_type": "stream",
     "text": [
      "TEMP_ folder already exists for stories\n",
      "TEMP_ folder already exists for llm_storage\n"
     ]
    }
   ],
   "source": [
    "# Copy Previous Instances\n",
    "!tablevault setup-temp -db test_database -t stories -pid _1738336210_hUshR\n",
    "\n",
    "!tablevault setup-temp -db test_database -t llm_storage -pid _1738336228_ltwSq\n",
    "\n",
    "!tablevault setup-temp -db test_database -t llm_questions -pid version_1_1738336233_URPVb -v version_1"
   ]
  },
  {
   "cell_type": "code",
   "execution_count": 41,
   "id": "dcd535d5-74ad-4bed-9fd4-aa9dce38328a",
   "metadata": {},
   "outputs": [
    {
     "name": "stdout",
     "output_type": "stream",
     "text": [
      "PARSED DEPENDENCIES AND TO EXECUTE PROMPTS\n",
      "{'all_columns': ['paper_name', 'paper_path'],\n",
      " 'external_deps': {'fetch_stories': []},\n",
      " 'gen_columns': ['paper_name', 'paper_path'],\n",
      " 'internal_prompt_deps': {'fetch_stories': []},\n",
      " 'origin': '_1738336210_hUshR',\n",
      " 'perm_instance_id': '_1738336922_ktuop',\n",
      " 'start_time': 1738336922.105401,\n",
      " 'to_change_columns': [],\n",
      " 'to_execute': [],\n",
      " 'top_pnames': ['fetch_stories']}\n",
      "execute code\n",
      "NO UPDATES: NOTHING HAPPENS.\n",
      "PARSED DEPENDENCIES AND TO EXECUTE PROMPTS\n",
      "{'all_columns': ['paper_name', 'openai_id'],\n",
      " 'external_deps': {'fetch_llm_storage': [('stories',\n",
      "                                          'paper_name',\n",
      "                                          '_1738336210_hUshR',\n",
      "                                          1738336210.48013,\n",
      "                                          True)],\n",
      "                   'upload_openai': [('stories',\n",
      "                                      'paper_path',\n",
      "                                      '_1738336210_hUshR',\n",
      "                                      1738336210.48013,\n",
      "                                      True),\n",
      "                                     ('stories',\n",
      "                                      'paper_name',\n",
      "                                      '_1738336210_hUshR',\n",
      "                                      1738336210.48013,\n",
      "                                      True)]},\n",
      " 'gen_columns': ['paper_name'],\n",
      " 'internal_prompt_deps': {'fetch_llm_storage': [],\n",
      "                          'upload_openai': ['paper_name']},\n",
      " 'origin': '_1738336228_ltwSq',\n",
      " 'perm_instance_id': '_1738336922_aAKFp',\n",
      " 'start_time': 1738336922.724378,\n",
      " 'to_change_columns': [],\n",
      " 'to_execute': [],\n",
      " 'top_pnames': ['fetch_llm_storage', 'upload_openai']}\n",
      "execute code\n",
      "NO UPDATES: NOTHING HAPPENS.\n",
      "PARSED DEPENDENCIES AND TO EXECUTE PROMPTS\n",
      "{'all_columns': ['paper_name', 'q1', 'q3_1', 'q3', 'q2_1', 'q2'],\n",
      " 'external_deps': {'fetch_llm_question': [('stories',\n",
      "                                           'paper_name',\n",
      "                                           '_1738336210_hUshR',\n",
      "                                           1738336210.48013,\n",
      "                                           True)],\n",
      "                   'question_1': [('llm_storage',\n",
      "                                   'openai_id',\n",
      "                                   '_1738336228_ltwSq',\n",
      "                                   1738336229.295321,\n",
      "                                   True),\n",
      "                                  ('llm_storage',\n",
      "                                   'paper_name',\n",
      "                                   '_1738336228_ltwSq',\n",
      "                                   1738336229.295321,\n",
      "                                   True)],\n",
      "                   'question_2': [('llm_storage',\n",
      "                                   'openai_id',\n",
      "                                   '_1738336228_ltwSq',\n",
      "                                   1738336229.295321,\n",
      "                                   True),\n",
      "                                  ('llm_storage',\n",
      "                                   'paper_name',\n",
      "                                   '_1738336228_ltwSq',\n",
      "                                   1738336229.295321,\n",
      "                                   True)],\n",
      "                   'question_3': [('llm_storage',\n",
      "                                   'openai_id',\n",
      "                                   '_1738336228_ltwSq',\n",
      "                                   1738336229.295321,\n",
      "                                   True),\n",
      "                                  ('llm_storage',\n",
      "                                   'paper_name',\n",
      "                                   '_1738336228_ltwSq',\n",
      "                                   1738336229.295321,\n",
      "                                   True)]},\n",
      " 'gen_columns': ['paper_name'],\n",
      " 'internal_prompt_deps': {'fetch_llm_question': [],\n",
      "                          'question_1': ['paper_name'],\n",
      "                          'question_2': ['q1', 'q3', 'paper_name'],\n",
      "                          'question_3': ['paper_name']},\n",
      " 'origin': 'version_1_1738336233_URPVb',\n",
      " 'perm_instance_id': 'version_1_1738336923_bErMm',\n",
      " 'start_time': 1738336923.354656,\n",
      " 'to_change_columns': [],\n",
      " 'to_execute': [],\n",
      " 'top_pnames': ['fetch_llm_question', 'question_1', 'question_3', 'question_2']}\n",
      "execute code\n",
      "NO UPDATES: NOTHING HAPPENS.\n"
     ]
    }
   ],
   "source": [
    "# Execute new Instances\n",
    "! tablevault execute -db test_database -t stories\n",
    "! tablevault execute -db test_database -t llm_storage\n",
    "! tablevault execute -db test_database -t llm_questions -v version_1"
   ]
  },
  {
   "cell_type": "code",
   "execution_count": 43,
   "id": "8e337053-e54e-4d07-8b21-54faa67c9da6",
   "metadata": {},
   "outputs": [
    {
     "name": "stdout",
     "output_type": "stream",
     "text": [
      " 📁 _1738336210_hUshR\n",
      "     📄 table.csv\n",
      "     📁 prompts\n",
      "         📄 fetch_stories.yaml\n",
      "         📄 description.yaml\n",
      " 📁 TEMP_\n",
      "     📄 table.csv\n",
      "     📁 prompts\n",
      "         📄 fetch_stories.yaml\n",
      "         📄 description.yaml\n",
      " 📁 prompts\n",
      "     📄 fetch_stories_5.yaml\n",
      "     📄 fetch_stories.yaml\n"
     ]
    }
   ],
   "source": [
    "print_directory_tree(root_dir = 'test_database/stories', indent=\" \")"
   ]
  },
  {
   "cell_type": "markdown",
   "id": "ab3c3c36-39d5-4c50-9fe8-5e2ea145bf34",
   "metadata": {},
   "source": [
    "**NOTE:** If changes happen (columns, rows, dependencies) only table entries affected by those changes are executed"
   ]
  },
  {
   "cell_type": "markdown",
   "id": "e0ba7ad4-54db-49c9-9c10-48fc4c3e6f32",
   "metadata": {},
   "source": [
    "# Delete Instance and Delete Table\n",
    "\n",
    "Deletes are simple but need to be executed with the command lines, so that the metadata is correctly updated. By default nothing is every deleted."
   ]
  },
  {
   "cell_type": "code",
   "execution_count": 44,
   "id": "1974a9cf-07f3-48c0-9c39-29e1a1a551db",
   "metadata": {},
   "outputs": [],
   "source": [
    "# Delete table instance \n",
    "! tablevault delete-instance -db test_database -t stories -id _1738336210_hUshR"
   ]
  },
  {
   "cell_type": "code",
   "execution_count": 48,
   "id": "26b247b8-7696-4d19-94a1-e87d49f3a07f",
   "metadata": {},
   "outputs": [],
   "source": [
    "# Delete table\n",
    "! tablevault delete-table -db test_database -t llm_storage"
   ]
  },
  {
   "cell_type": "code",
   "execution_count": 55,
   "id": "5a57e21f-57f1-4f73-898f-9444f65b6272",
   "metadata": {},
   "outputs": [
    {
     "name": "stdout",
     "output_type": "stream",
     "text": [
      " 📁 llm_questions\n",
      "     📁 TEMP_version_1\n",
      "         📁 prompts\n",
      "     📁 version_1_1738336233_URPVb\n",
      "         📁 prompts\n",
      "     📁 prompts\n",
      " 📁 locks\n",
      "     📁 llm_questions\n",
      "     📁 RESTART\n",
      "     📁 stories\n",
      " 📁 stories\n",
      "     📁 TEMP_\n",
      "         📁 prompts\n",
      "     📁 prompts\n",
      " 📁 metadata\n",
      " 📁 code_functions\n"
     ]
    }
   ],
   "source": [
    "# Show new folder and metadata\n",
    "print_directory_tree(root_dir = 'test_database', indent=\" \", files = False)"
   ]
  },
  {
   "cell_type": "markdown",
   "id": "dae95a3b-ad80-45ac-8392-11e0f93d6a31",
   "metadata": {},
   "source": [
    "# Restarts\n",
    "\n",
    "Not included in demo because requires mid-process stopping, but tested."
   ]
  }
 ],
 "metadata": {
  "kernelspec": {
   "display_name": "Python 3 (ipykernel)",
   "language": "python",
   "name": "python3"
  },
  "language_info": {
   "codemirror_mode": {
    "name": "ipython",
    "version": 3
   },
   "file_extension": ".py",
   "mimetype": "text/x-python",
   "name": "python",
   "nbconvert_exporter": "python",
   "pygments_lexer": "ipython3",
   "version": "3.13.1"
  }
 },
 "nbformat": 4,
 "nbformat_minor": 5
}
