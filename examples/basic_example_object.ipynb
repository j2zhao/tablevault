{
 "cells": [
  {
   "cell_type": "markdown",
   "id": "e877ad66-3217-42a2-a8aa-e2027d69c7a5",
   "metadata": {},
   "source": [
    "# Basic Example\n",
    "\n",
    "Copy of basic_example_command_line.ipynb except using Python Objects. Behavior should be exactly the same.\n",
    "\n"
   ]
  },
  {
   "cell_type": "markdown",
   "id": "d8cf1618-baf5-4a92-a2a1-d93687b293eb",
   "metadata": {},
   "source": [
    "# Setup\n",
    "\n",
    "Installing package:\n",
    "\n",
    "- Download from Github repository and build\n",
    "- Add OpenAI Key to appropriate location"
   ]
  },
  {
   "cell_type": "code",
   "execution_count": 1,
   "id": "56aac628-afc8-4bdb-9d98-69a3930827f3",
   "metadata": {},
   "outputs": [
    {
     "ename": "NameError",
     "evalue": "name 'function' is not defined",
     "output_type": "error",
     "traceback": [
      "\u001b[0;31m---------------------------------------------------------------------------\u001b[0m",
      "\u001b[0;31mNameError\u001b[0m                                 Traceback (most recent call last)",
      "Cell \u001b[0;32mIn[1], line 1\u001b[0m\n\u001b[0;32m----> 1\u001b[0m \u001b[38;5;28;01mfrom\u001b[39;00m\u001b[38;5;250m \u001b[39m\u001b[38;5;21;01mtablevault\u001b[39;00m\u001b[38;5;21;01m.\u001b[39;00m\u001b[38;5;21;01mtablevault\u001b[39;00m\u001b[38;5;250m \u001b[39m\u001b[38;5;28;01mimport\u001b[39;00m TableVault\n",
      "File \u001b[0;32m~/Documents/work_projects/tablevault_package/tablevault/tablevault/tablevault.py:1\u001b[0m\n\u001b[0;32m----> 1\u001b[0m \u001b[38;5;28;01mfrom\u001b[39;00m\u001b[38;5;250m \u001b[39m\u001b[38;5;21;01mtablevault\u001b[39;00m\u001b[38;5;250m \u001b[39m\u001b[38;5;28;01mimport\u001b[39;00m _tablevault\n\u001b[1;32m      2\u001b[0m \u001b[38;5;28;01mfrom\u001b[39;00m\u001b[38;5;250m \u001b[39m\u001b[38;5;21;01mtablevault\u001b[39;00m\u001b[38;5;21;01m.\u001b[39;00m\u001b[38;5;21;01m_utils\u001b[39;00m\u001b[38;5;21;01m.\u001b[39;00m\u001b[38;5;21;01mmetadata_store\u001b[39;00m\u001b[38;5;250m \u001b[39m\u001b[38;5;28;01mimport\u001b[39;00m MetadataStore, ActiveProcessDict\n\u001b[1;32m      3\u001b[0m \u001b[38;5;28;01mimport\u001b[39;00m\u001b[38;5;250m \u001b[39m\u001b[38;5;21;01mos\u001b[39;00m\n",
      "File \u001b[0;32m~/Documents/work_projects/tablevault_package/tablevault/tablevault/_tablevault.py:3\u001b[0m\n\u001b[1;32m      1\u001b[0m \u001b[38;5;28;01mfrom\u001b[39;00m\u001b[38;5;250m \u001b[39m\u001b[38;5;21;01mtablevault\u001b[39;00m\u001b[38;5;21;01m.\u001b[39;00m\u001b[38;5;21;01m_utils\u001b[39;00m\u001b[38;5;250m \u001b[39m\u001b[38;5;28;01mimport\u001b[39;00m file_operations\n\u001b[1;32m      2\u001b[0m \u001b[38;5;28;01mfrom\u001b[39;00m\u001b[38;5;250m \u001b[39m\u001b[38;5;21;01mtablevault\u001b[39;00m\u001b[38;5;21;01m.\u001b[39;00m\u001b[38;5;21;01m_utils\u001b[39;00m\u001b[38;5;21;01m.\u001b[39;00m\u001b[38;5;21;01mmetadata_store\u001b[39;00m\u001b[38;5;250m \u001b[39m\u001b[38;5;28;01mimport\u001b[39;00m MetadataStore, ActiveProcessDict\n\u001b[0;32m----> 3\u001b[0m \u001b[38;5;28;01mfrom\u001b[39;00m\u001b[38;5;250m \u001b[39m\u001b[38;5;21;01mtablevault\u001b[39;00m\u001b[38;5;21;01m.\u001b[39;00m\u001b[38;5;21;01m_meta_operations\u001b[39;00m\u001b[38;5;250m \u001b[39m\u001b[38;5;28;01mimport\u001b[39;00m datavault_operation\n\u001b[1;32m      4\u001b[0m \u001b[38;5;28;01mfrom\u001b[39;00m\u001b[38;5;250m \u001b[39m\u001b[38;5;21;01mtablevault\u001b[39;00m\u001b[38;5;21;01m.\u001b[39;00m\u001b[38;5;21;01m_utils\u001b[39;00m\u001b[38;5;21;01m.\u001b[39;00m\u001b[38;5;21;01mdatabase_lock\u001b[39;00m\u001b[38;5;250m \u001b[39m\u001b[38;5;28;01mimport\u001b[39;00m DatabaseLock\n\u001b[1;32m      5\u001b[0m \u001b[38;5;28;01mfrom\u001b[39;00m\u001b[38;5;250m \u001b[39m\u001b[38;5;21;01mtablevault\u001b[39;00m\u001b[38;5;250m \u001b[39m\u001b[38;5;28;01mimport\u001b[39;00m _table_execution\n",
      "File \u001b[0;32m~/Documents/work_projects/tablevault_package/tablevault/tablevault/_meta_operations.py:15\u001b[0m\n\u001b[1;32m     12\u001b[0m     func_params \u001b[38;5;241m=\u001b[39m inspect\u001b[38;5;241m.\u001b[39msignature(func)\u001b[38;5;241m.\u001b[39mparameters\n\u001b[1;32m     13\u001b[0m     \u001b[38;5;28;01mreturn\u001b[39;00m {key: kwargs[key] \u001b[38;5;28;01mfor\u001b[39;00m key \u001b[38;5;129;01min\u001b[39;00m func_params \u001b[38;5;28;01mif\u001b[39;00m key \u001b[38;5;129;01min\u001b[39;00m kwargs}\n\u001b[0;32m---> 15\u001b[0m \u001b[38;5;28;01mdef\u001b[39;00m\u001b[38;5;250m \u001b[39m\u001b[38;5;21mdatavault_operation\u001b[39m(datavault_func:\u001b[43mfunction\u001b[49m):\n\u001b[1;32m     16\u001b[0m     \u001b[38;5;28;01mdef\u001b[39;00m\u001b[38;5;250m \u001b[39m\u001b[38;5;21mwrapper\u001b[39m(\u001b[38;5;241m*\u001b[39m\u001b[38;5;241m*\u001b[39mkwargs):\n\u001b[1;32m     17\u001b[0m         db_metadata \u001b[38;5;241m=\u001b[39m MetadataStore(kwargs[\u001b[38;5;124m'\u001b[39m\u001b[38;5;124mdb_dir\u001b[39m\u001b[38;5;124m'\u001b[39m])\n",
      "\u001b[0;31mNameError\u001b[0m: name 'function' is not defined"
     ]
    }
   ],
   "source": [
    "from tablevault.tablevault import TableVault\n"
   ]
  },
  {
   "cell_type": "markdown",
   "id": "019f0b8f-e392-40d2-9aed-38b69a1d52a2",
   "metadata": {},
   "source": [
    "# General Functionalities\n",
    "\n",
    "- Every Table Modification is Logged\n",
    "- Multi-Process Safe -> Locking supports Single Writes and Multiple Reads\n",
    "- Re-start Safe (as long as operation is logged, the operation will execute function as intended):\n",
    "- Robust Versioning\n",
    "- Granualar (Manual) History Tracking\n",
    "- Inter-Table Linking (Similar to Foriegn Keys)\n",
    "- Allow both Row and Column Table Updates"
   ]
  },
  {
   "cell_type": "markdown",
   "id": "ae9d6b24-29b7-4f32-b1ec-a3b5248a9c7e",
   "metadata": {},
   "source": [
    "# Initial/External Data\n",
    "- Yaml Files\n",
    "- Data Source (pdf): OpenAI generated short story. \n",
    "- OpenAI API Key"
   ]
  },
  {
   "cell_type": "markdown",
   "id": "569c5798-ff4e-45b0-a54a-473a257fd5f8",
   "metadata": {},
   "source": [
    "## Example YAML Files"
   ]
  },
  {
   "cell_type": "code",
   "execution_count": null,
   "id": "fa55630e-0e9b-487a-a0d2-ed30ca8898b4",
   "metadata": {},
   "outputs": [],
   "source": [
    "import yaml\n",
    "# Table Generation File\n",
    "rel_path = './test_data/test_data_db/stories/fetch_stories.yaml'\n",
    "\n",
    "with open(rel_path, \"r\") as file:\n",
    "    yaml_data = yaml.safe_load(file)\n",
    "yaml_data"
   ]
  },
  {
   "cell_type": "code",
   "execution_count": null,
   "id": "03c33b1b-572f-4e40-a673-17a3da899df9",
   "metadata": {},
   "outputs": [],
   "source": [
    "# Code Execution File\n",
    "\n",
    "rel_path = './test_data/test_data_db/llm_storage/upload_openai.yaml'\n",
    "\n",
    "with open(rel_path, \"r\") as file:\n",
    "    yaml_data = yaml.safe_load(file)\n",
    "yaml_data"
   ]
  },
  {
   "cell_type": "code",
   "execution_count": null,
   "id": "99bd8ff2-5572-413e-98a2-f5bfec6de5dd",
   "metadata": {},
   "outputs": [],
   "source": [
    "# LLM Execution File (Only support OpenAI Threads for now)\n",
    "\n",
    "rel_path = './test_data/test_data_db/llm_questions/question_3.yaml'\n",
    "\n",
    "with open(rel_path, \"r\") as file:\n",
    "    yaml_data = yaml.safe_load(file)\n",
    "yaml_data"
   ]
  },
  {
   "cell_type": "markdown",
   "id": "187df9a2-f66e-46fe-be22-c2fbc81d60ce",
   "metadata": {},
   "source": [
    "# Make Base Folder"
   ]
  },
  {
   "cell_type": "code",
   "execution_count": null,
   "id": "4f985722-f366-44e0-8626-263ce77c05db",
   "metadata": {},
   "outputs": [],
   "source": [
    "# Command to initialize folder\n",
    "\n",
    "#!tablevault database -db test_database -r\n",
    "\n",
    "tablevault = TableVault('test_database', author = 'jinjin', create = True)"
   ]
  },
  {
   "cell_type": "code",
   "execution_count": null,
   "id": "e6647c3d-a871-4225-ab7a-25c8a93116fa",
   "metadata": {},
   "outputs": [],
   "source": [
    "# View current folder structure\n",
    "import os\n",
    "\n",
    "def print_directory_tree(root_dir, indent=\" \", files = True):\n",
    "    for item in os.listdir(root_dir):\n",
    "        path = os.path.join(root_dir, item)\n",
    "        if os.path.isdir(path):\n",
    "            print(indent + \"📁 \" + item)\n",
    "            print_directory_tree(path, indent + \"    \", files)\n",
    "        else:\n",
    "            if files:\n",
    "                print(indent + \"📄 \" + item)\n",
    "\n",
    "\n",
    "print_directory_tree(root_dir = 'test_database', indent=\" \")"
   ]
  },
  {
   "cell_type": "markdown",
   "id": "355ee620-b6d6-4149-b0e5-fe13ee1980eb",
   "metadata": {},
   "source": [
    "# Make Table Folders"
   ]
  },
  {
   "cell_type": "code",
   "execution_count": null,
   "id": "b9a4ddbb-a863-47ca-a58e-af86c36ccb98",
   "metadata": {},
   "outputs": [],
   "source": [
    "# Commands to initialize table folders\n",
    "\n",
    "# ! tablevault setup-table -db test_database -t stories\n",
    "tablevault.setup_table('stories') \n",
    "\n",
    "#! tablevault setup-table -db test_database -t llm_storage\n",
    "tablevault.setup_table('llm_storage') \n",
    "\n",
    "#! tablevault setup-table -db test_database -t llm_questions -m # allow multiple active versions for different versioning testing\n",
    "tablevault.setup_table('llm_questions', allow_multiple = True) \n"
   ]
  },
  {
   "cell_type": "code",
   "execution_count": null,
   "id": "b372ea21-a5ed-4a19-aa9b-18169224e080",
   "metadata": {},
   "outputs": [],
   "source": [
    "# View Current folder structure\n",
    "\n",
    "print_directory_tree(root_dir = 'test_database', indent=\" \")"
   ]
  },
  {
   "cell_type": "code",
   "execution_count": null,
   "id": "94cf925f-1ea3-457f-89a9-57e332c34c3b",
   "metadata": {},
   "outputs": [],
   "source": [
    "# View example log and metadata files\n",
    "log_file = 'test_database/metadata/log.txt'\n",
    "with open(log_file, 'r') as f:\n",
    "    content = f.read()\n",
    "    print(content)"
   ]
  },
  {
   "cell_type": "code",
   "execution_count": null,
   "id": "8bce9de4-5131-4c55-b0db-a7f234294686",
   "metadata": {},
   "outputs": [],
   "source": [
    "import json\n",
    "log_file = 'test_database/metadata/tables_multiple.json'\n",
    "with open(log_file, 'r') as f:\n",
    "    content = json.load(f)\n",
    "    print(content)"
   ]
  },
  {
   "cell_type": "markdown",
   "id": "2e6cff57-18f8-43c2-b385-aab78c86e0db",
   "metadata": {},
   "source": [
    "**Example Active Log**\n",
    "\n",
    "Shown in text because file deleted once executed."
   ]
  },
  {
   "cell_type": "raw",
   "id": "e368ca40-a3c8-460a-890f-b7ef75d935bf",
   "metadata": {},
   "source": [
    "{\n",
    "    \"5454a096-6883-4983-972a-29709be3a5fb\": {\n",
    "        \"process_id\": \"5454a096-6883-4983-972a-29709be3a5fb\",\n",
    "        \"author\": \"command_line\",\n",
    "        \"start_time\": 1738332780.51158,\n",
    "        \"log_time\": 1738332780.51158,\n",
    "        \"table_name\": \"stories\",\n",
    "        \"instance_id\": \"\",\n",
    "        \"restarts\": [],\n",
    "        \"operation\": \"setup_table\",\n",
    "        \"complete_steps\": [],\n",
    "        \"step_times\": [],\n",
    "        \"data\": {\n",
    "            \"allow_multiple\": false\n",
    "        },\n",
    "        \"success\": null\n",
    "    }\n",
    "}\n"
   ]
  },
  {
   "cell_type": "markdown",
   "id": "76e2c399-7c5a-4c47-9a93-064ac4f6364f",
   "metadata": {},
   "source": [
    "# Make Table Instances"
   ]
  },
  {
   "cell_type": "markdown",
   "id": "f789b975-8ac5-4c36-9ea4-f3d16f9a87e6",
   "metadata": {},
   "source": [
    "## First we add the prompts to the data table \"prompts\" directories"
   ]
  },
  {
   "cell_type": "code",
   "execution_count": null,
   "id": "f9fc2250-c5c7-4726-9c97-9cc392eca463",
   "metadata": {},
   "outputs": [],
   "source": [
    "import shutil\n",
    "\n",
    "def copy_files_to_table(base_dir, db_dir, table_name):\n",
    "    org_path = os.path.join(base_dir, table_name)\n",
    "    new_path = os.path.join(db_dir, table_name)\n",
    "    new_path = os.path.join(new_path, 'prompts')\n",
    "    for file in os.listdir(org_path):\n",
    "        if file.endswith('.yaml'):\n",
    "            org_path_ = os.path.join(org_path, file)\n",
    "            new_path_ = os.path.join(new_path, file)\n",
    "            if os.path.exists(new_path_):\n",
    "                os.remove(new_path_)\n",
    "            shutil.copy2(org_path_, new_path_)\n",
    "\n",
    "yaml_base_dir = './test_data/test_data_db'\n",
    "db_dire = './test_database'\n",
    "\n",
    "copy_files_to_table(yaml_base_dir, db_dire, \"stories\")\n",
    "copy_files_to_table(yaml_base_dir, db_dire, \"llm_storage\")\n",
    "copy_files_to_table(yaml_base_dir, db_dire, \"llm_questions\")"
   ]
  },
  {
   "cell_type": "markdown",
   "id": "96d47b65-0bc2-48cf-b059-d762eb51c534",
   "metadata": {},
   "source": [
    "## Then we make instances with specified prompts"
   ]
  },
  {
   "cell_type": "code",
   "execution_count": null,
   "id": "9205b7a8-ab6e-4b4a-ad5d-28b0d4fbd24b",
   "metadata": {},
   "outputs": [],
   "source": [
    "# Make Temporary (Not executed) Instances\n",
    "\n",
    "#!tablevault setup-temp -db test_database -t stories -p fetch_stories -gp fetch_stories\n",
    "tablevault.setup_temp(table_name = 'stories', prompts = ['fetch_stories'], gen_prompt = 'fetch_stories')\n",
    "#!tablevault setup-temp -db test_database -t llm_storage -p fetch_llm_storage -p upload_openai -gp fetch_llm_storage\n",
    "tablevault.setup_temp(table_name = 'llm_storage', prompts = ['fetch_llm_storage', 'upload_openai'], gen_prompt = 'fetch_llm_storage')\n",
    "#!tablevault setup-temp -db test_database -t llm_questions -v version_1 \\\n",
    "#-p fetch_llm_question -p question_1 -p question_2 -p  question_3 -gp fetch_llm_question\n",
    "tablevault.setup_temp(table_name = 'llm_questions',version = 'version_1', prompts = ['fetch_llm_question', 'question_1', 'question_2', \\\n",
    "                                                             'question_3'], gen_prompt = 'fetch_llm_question')\n"
   ]
  },
  {
   "cell_type": "code",
   "execution_count": null,
   "id": "bd696e32-a53b-48d1-a8e8-047fbe91dee4",
   "metadata": {},
   "outputs": [],
   "source": [
    "# View Current Folder Structure\n",
    "print_directory_tree(root_dir = 'test_database/stories', indent=\" \")"
   ]
  },
  {
   "cell_type": "code",
   "execution_count": null,
   "id": "5f5e8ef3-084f-4286-b421-050ddcfbe4d6",
   "metadata": {},
   "outputs": [],
   "source": [
    "\n",
    "rel_path = './test_database/stories/TEMP_/prompts/description.yaml'\n",
    "\n",
    "with open(rel_path, \"r\") as file:\n",
    "    yaml_data = yaml.safe_load(file)\n",
    "yaml_data"
   ]
  },
  {
   "cell_type": "markdown",
   "id": "39850679-08e1-4e42-b0a2-2db14098005e",
   "metadata": {},
   "source": [
    "# Execute Table Instances"
   ]
  },
  {
   "cell_type": "code",
   "execution_count": null,
   "id": "5ae34de5-e434-43a0-bf07-4acc7e3f98fe",
   "metadata": {},
   "outputs": [],
   "source": [
    "# Make PDF Table\n",
    "#! tablevault execute -db test_database -t stories\n",
    "tablevault.execute(table_name = 'stories')\n",
    "print_directory_tree(root_dir = 'test_database/stories', indent=\" \")"
   ]
  },
  {
   "cell_type": "code",
   "execution_count": null,
   "id": "3fb3182b-d0e1-4e00-8c5d-08ae15527309",
   "metadata": {},
   "outputs": [],
   "source": [
    "story_instance_id = tablevault.list_instances(table_name = 'stories')\n",
    "story_instance_id = story_instance_id[0]\n"
   ]
  },
  {
   "cell_type": "code",
   "execution_count": null,
   "id": "468f14ba-03be-42fc-9923-c719c185d1cd",
   "metadata": {},
   "outputs": [],
   "source": [
    "import pandas as pd\n",
    "df_path = f'test_database/stories/{story_instance_id}/table.csv'\n",
    "df = pd.read_csv(df_path)\n",
    "df"
   ]
  },
  {
   "cell_type": "code",
   "execution_count": null,
   "id": "2150e2fe-b333-4c4c-978c-43931d5daa01",
   "metadata": {},
   "outputs": [],
   "source": [
    "# Make OpenAI Storage File (upload pdf to OpenAI) (Allow Multiple Threads)\n",
    "#! tablevault execute -db test_database -t llm_storage\n",
    "tablevault.execute(table_name = 'llm_storage')\n"
   ]
  },
  {
   "cell_type": "code",
   "execution_count": null,
   "id": "2c29ef79-1d81-4d10-8e12-eb7ced0735b7",
   "metadata": {},
   "outputs": [],
   "source": [
    "# View Table\n",
    "code_instance_id = tablevault.list_instances(table_name = 'llm_storage')\n",
    "code_instance_id = code_instance_id[0]\n",
    "\n",
    "df_path = f'test_database/llm_storage/{code_instance_id}/table.csv'\n",
    "df = pd.read_csv(df_path)\n",
    "df"
   ]
  },
  {
   "cell_type": "code",
   "execution_count": null,
   "id": "0d7e8e22-e9b8-4f5a-9bf3-b5983f863f44",
   "metadata": {},
   "outputs": [],
   "source": [
    "# Make LLM Question Response Table (Allow Multiple Threads)\n",
    "tablevault.execute(table_name = 'llm_questions', version = 'version_1')"
   ]
  },
  {
   "cell_type": "code",
   "execution_count": null,
   "id": "4a76f6f7-0d75-463b-abef-7199b6c32fc3",
   "metadata": {},
   "outputs": [],
   "source": [
    "llm_instance_id = tablevault.list_instances(table_name = 'llm_questions')\n",
    "llm_instance_id = llm_instance_id[0]\n",
    "\n",
    "df_path = f'test_database/llm_questions/{llm_instance_id}/table.csv'\n",
    "pd.set_option(\"display.max_colwidth\", None)\n",
    "\n",
    "df = pd.read_csv(df_path)\n",
    "df"
   ]
  },
  {
   "cell_type": "markdown",
   "id": "8aa7b851-bc97-4149-acf2-c3fcd9f95bc3",
   "metadata": {},
   "source": [
    "# Table Versioning\n",
    "\n",
    "We automatically do not re-execute tables if there hasn't been any changes. We only execute cases where the rows (samples), columns (prompts), or dependencies (other tables) have changed by default. "
   ]
  },
  {
   "cell_type": "markdown",
   "id": "48583a7c-2fa8-41b0-957e-350ba712f72d",
   "metadata": {},
   "source": [
    "## No Changes"
   ]
  },
  {
   "cell_type": "code",
   "execution_count": null,
   "id": "77258932-1d66-40c2-bfa0-aba264ab7730",
   "metadata": {},
   "outputs": [],
   "source": [
    "# Copy Previous Instances\n",
    "#!tablevault setup-temp -db test_database -t stories -pid {story_instance_id}\n",
    "tablevault.setup_temp(table_name = 'stories', prev_id = story_instance_id)\n",
    "#!tablevault setup-temp -db test_database -t llm_storage -pid {code_instance_id}\n",
    "tablevault.setup_temp(table_name = 'llm_storage', prev_id = code_instance_id)\n",
    "#!tablevault setup-temp -db test_database -t llm_questions -pid {llm_instance_id} -v version_1\n",
    "tablevault.setup_temp(table_name = 'llm_questions', version = 'version_1', prev_id = llm_instance_id)"
   ]
  },
  {
   "cell_type": "code",
   "execution_count": null,
   "id": "dcd535d5-74ad-4bed-9fd4-aa9dce38328a",
   "metadata": {},
   "outputs": [],
   "source": [
    "# Execute new Instances\n",
    "#! tablevault execute -db test_database -t stories\n",
    "tablevault.execute(table_name = 'stories')\n",
    "\n",
    "#! tablevault execute -db test_database -t llm_storage\n",
    "tablevault.execute(table_name = 'llm_storage')\n",
    "#! tablevault execute -db test_database -t llm_questions -v version_1\n",
    "tablevault.execute(table_name = 'llm_questions', version = 'version_1')"
   ]
  },
  {
   "cell_type": "code",
   "execution_count": null,
   "id": "8e337053-e54e-4d07-8b21-54faa67c9da6",
   "metadata": {},
   "outputs": [],
   "source": [
    "print_directory_tree(root_dir = 'test_database/stories', indent=\" \")"
   ]
  },
  {
   "cell_type": "markdown",
   "id": "2b161580-bf8d-4e7a-852c-bf2ba07c45fb",
   "metadata": {},
   "source": [
    "## Column Update "
   ]
  },
  {
   "cell_type": "markdown",
   "id": "b0be576d-a3d8-4107-9cb8-ba7a4732218e",
   "metadata": {},
   "source": [
    "What happens to execution of LLM questions if we change a column? We will test this on a copied database so the original remains clean."
   ]
  },
  {
   "cell_type": "markdown",
   "id": "a8fedc53-42a3-47dd-a13a-6da99f426be0",
   "metadata": {},
   "source": [
    "We generate a new prompt question for llm_questions, and create a new instance with that question."
   ]
  },
  {
   "cell_type": "code",
   "execution_count": null,
   "id": "b92e4c91-7edd-4c40-9767-a4d703c36c3c",
   "metadata": {},
   "outputs": [],
   "source": [
    "# function to replace question_1 prompt with question_1a\n",
    "def replace_prompt(prompt, instance_id, table_name, base_dir = './test_data/test_data_db', db_dir = './test_database_2', prev_prompt= None):\n",
    "    org_path = os.path.join(base_dir, table_name, prompt)\n",
    "    new_dir = os.path.join(db_dir, table_name, instance_id, 'prompts')\n",
    "    new_path = os.path.join(new_dir, prompt)\n",
    "    if prev_prompt != None:\n",
    "        prev_prompt_path = os.path.join(new_dir, prev_prompt)\n",
    "        if os.path.exists(prev_prompt_path):\n",
    "            print('Removed')\n",
    "            print(prev_prompt_path)\n",
    "            os.remove(prev_prompt_path)\n",
    "    shutil.copy2(org_path, new_path)"
   ]
  },
  {
   "cell_type": "code",
   "execution_count": null,
   "id": "d051526c-7e15-449a-91de-696e37646f97",
   "metadata": {},
   "outputs": [],
   "source": [
    "# Copy database\n",
    "def copy_db(new_dir = 'test_database_2', orig_dir = 'test_database'):\n",
    "    if os.path.exists(new_dir):\n",
    "        shutil.rmtree(new_dir)\n",
    "    shutil.copytree(orig_dir, new_dir)\n",
    "\n",
    "copy_db() \n",
    "# since everything is saved in the directory, \n",
    "# once we copy the data over, we can execute like normal \n",
    "# as if we are just continuing previous operations"
   ]
  },
  {
   "cell_type": "code",
   "execution_count": null,
   "id": "7304b4c5-b835-499a-9a72-7e992bc73781",
   "metadata": {},
   "outputs": [],
   "source": [
    "# Create new TableVault object\n",
    "tablevault_2 = TableVault(db_dir = 'test_database_2', author = 'jinjin')"
   ]
  },
  {
   "cell_type": "code",
   "execution_count": null,
   "id": "a7564d61-76f6-4a2c-af71-23460bac9dfc",
   "metadata": {},
   "outputs": [],
   "source": [
    "# generate new temporary instance and replace prompt\n",
    "#!tablevault setup-temp -db test_database_2 -t llm_questions -pid {llm_instance_id} -v version_2\n",
    "tablevault_2.setup_temp(table_name = 'llm_questions', version = 'version_2', prev_id = llm_instance_id)\n",
    "\n",
    "replace_prompt(\"question_1a.yaml\", \"TEMP_version_2\", \"llm_questions\", prev_prompt= \"question_1.yaml\")\n",
    "\n",
    "print_directory_tree(root_dir = 'test_database_2/llm_questions/TEMP_version_2', indent=\" \") # Note how we have a new prompt (user changed)"
   ]
  },
  {
   "cell_type": "code",
   "execution_count": null,
   "id": "b90da3aa-9c23-4c47-9d94-3da7a423de5a",
   "metadata": {},
   "outputs": [],
   "source": [
    "# Execute with new prompt\n",
    "#!tablevault execute -db test_database_2 -t llm_questions -v version_2\n",
    "tablevault_2.execute(table_name = 'llm_questions', version= 'version_2')"
   ]
  },
  {
   "cell_type": "code",
   "execution_count": null,
   "id": "f79ca338-074d-469d-aa50-d2c906939fb0",
   "metadata": {},
   "outputs": [],
   "source": [
    "# If we compare the two dataframes, note only the question 1's column changed\n",
    "#llm_instance_ids = !tablevault list-instances -db test_database_2 -t llm_questions\n",
    "llm_instance_ids = tablevault_2.list_instances(table_name = 'llm_questions')\n",
    "\n",
    "for instance_id in llm_instance_ids:\n",
    "    df_path = f'test_database_2/llm_questions/{instance_id}/table.csv'\n",
    "    df = pd.read_csv(df_path)\n",
    "    print(instance_id)\n",
    "    display(df)\n"
   ]
  },
  {
   "cell_type": "markdown",
   "id": "93b1f217-9f31-4735-8b97-0c0a4311cb31",
   "metadata": {},
   "source": [
    "## Row Update\n",
    "What happens to execution of LLM questions if we add a row (pdf file)? We will test this on a copied database so the original remains clean.\n",
    "\n",
    "We insert a new story in the stories folder. We will then re-execute the stories and the open-ai storage dataframes to seel what happens."
   ]
  },
  {
   "cell_type": "code",
   "execution_count": null,
   "id": "995d03dc-9e79-4b43-92b9-759c2266f5fd",
   "metadata": {},
   "outputs": [],
   "source": [
    "# Functions to copy\n",
    "def copy_story(base_dir= './test_data/stories', story_name = 'The_Clockmakers_Secret.pdf'):\n",
    "    org_path = os.path.join(base_dir, story_name)\n",
    "    new_name = story_name.split(\".\")[0] + '_copy.pdf'\n",
    "    new_path = os.path.join(base_dir, new_name)\n",
    "    shutil.copy2(org_path, new_path)\n",
    "\n",
    "# Clean Up\n",
    "def delete_story(base_dir= './test_data/stories', story_name = 'The_Clockmakers_Secret_copy.pdf'):\n",
    "    story_path  = os.path.join(base_dir, story_name)\n",
    "    os.remove(story_path)"
   ]
  },
  {
   "cell_type": "code",
   "execution_count": null,
   "id": "52b8f8cb-e03a-468b-84fd-739b0cd47da0",
   "metadata": {},
   "outputs": [],
   "source": [
    "copy_db()\n",
    "copy_story()"
   ]
  },
  {
   "cell_type": "code",
   "execution_count": null,
   "id": "64eba1e4-473f-45a3-b723-a4104bf1882e",
   "metadata": {},
   "outputs": [],
   "source": [
    "tablevault_2 = TableVault(db_dir = 'test_database_2', author = 'jinjin')"
   ]
  },
  {
   "cell_type": "code",
   "execution_count": null,
   "id": "8bc83438-865d-447b-87c0-c3daadc8d5b7",
   "metadata": {},
   "outputs": [],
   "source": [
    "# make new table instances\n",
    "#!tablevault setup-temp -db test_database_2 -t stories -pid {story_instance_id}\n",
    "tablevault_2.setup_temp(table_name = 'stories', prev_id = story_instance_id)\n",
    "#!tablevault setup-temp -db test_database_2 -t llm_storage -pid {code_instance_id}\n",
    "tablevault_2.setup_temp(table_name = 'llm_storage', prev_id = code_instance_id)"
   ]
  },
  {
   "cell_type": "code",
   "execution_count": null,
   "id": "71c713b4-f9f2-4e08-9f99-f978cd7ad2da",
   "metadata": {},
   "outputs": [],
   "source": [
    "# Execute New instances\n",
    "#! tablevault execute -db test_database_2 -t stories\n",
    "tablevault_2.execute(table_name = 'stories')\n",
    "#! tablevault execute -db test_database_2 -t llm_storage\n",
    "tablevault_2.execute(table_name = 'llm_storage')\n"
   ]
  },
  {
   "cell_type": "code",
   "execution_count": null,
   "id": "b847d031-4671-40a5-ba16-db418f34c866",
   "metadata": {},
   "outputs": [],
   "source": [
    "# If we compare the two dataframes, note only the column's changed\n",
    "#story_instance_ids = !tablevault list-instances -db test_database_2 -t stories\n",
    "story_instance_ids = tablevault_2.list_instances(table_name = 'stories')\n",
    "\n",
    "#code_instance_ids = !tablevault list-instances -db test_database_2 -t llm_storage\n",
    "code_instance_ids = tablevault_2.list_instances(table_name = 'llm_storage')\n",
    "\n",
    "for s_instance_id, c_instance_id,  in zip(story_instance_ids, code_instance_ids):\n",
    "    df_path = f'test_database_2/stories/{s_instance_id}/table.csv'\n",
    "    df = pd.read_csv(df_path)\n",
    "    display(df)\n",
    "    df_path = f'test_database_2/llm_storage/{c_instance_id}/table.csv'\n",
    "    df = pd.read_csv(df_path)\n",
    "    display(df)\n",
    "    \n"
   ]
  },
  {
   "cell_type": "code",
   "execution_count": null,
   "id": "c4b53873-3786-4072-8213-d2113fddccae",
   "metadata": {},
   "outputs": [],
   "source": [
    "# IMPORTANT: Cleanup\n",
    "delete_story()"
   ]
  },
  {
   "cell_type": "markdown",
   "id": "e0ba7ad4-54db-49c9-9c10-48fc4c3e6f32",
   "metadata": {},
   "source": [
    "# Delete Instance and Delete Table\n",
    "\n",
    "Deletes are simple but need to be executed with the command lines, so that the metadata is correctly updated. By default nothing is every deleted."
   ]
  },
  {
   "cell_type": "code",
   "execution_count": null,
   "id": "1974a9cf-07f3-48c0-9c39-29e1a1a551db",
   "metadata": {},
   "outputs": [],
   "source": [
    "# Delete table instance \n",
    "#! tablevault delete-instance -db test_database -t stories -id {story_instance_id}\n",
    "tablevault.delete_instance(instance_id = story_instance_id, table_name = 'stories')"
   ]
  },
  {
   "cell_type": "code",
   "execution_count": null,
   "id": "26b247b8-7696-4d19-94a1-e87d49f3a07f",
   "metadata": {},
   "outputs": [],
   "source": [
    "# Delete table\n",
    "#! tablevault delete-table -db test_database -t llm_storage\n",
    "tablevault.delete_table(table_name = 'llm_storage')"
   ]
  },
  {
   "cell_type": "code",
   "execution_count": null,
   "id": "5a57e21f-57f1-4f73-898f-9444f65b6272",
   "metadata": {},
   "outputs": [],
   "source": [
    "# Show new folder and metadata\n",
    "print_directory_tree(root_dir = 'test_database', indent=\" \", files = False)"
   ]
  },
  {
   "cell_type": "markdown",
   "id": "dae95a3b-ad80-45ac-8392-11e0f93d6a31",
   "metadata": {},
   "source": [
    "# Restarts\n",
    "\n",
    "Not included in demo because requires mid-process stopping, but tested.\n",
    "\n",
    "Restarts are executed when setting the restart flag when creating a new DataVault object.\n",
    "\n",
    "\n"
   ]
  },
  {
   "cell_type": "markdown",
   "id": "6e5ec9c2-6bcd-4379-9c18-922eb7887bff",
   "metadata": {},
   "source": [
    "# IMPORTANT - Cleanup\n",
    "Cleanup OpenAI Storage after tests. Note: this cleans up all openai files -> might destroy other experiments"
   ]
  },
  {
   "cell_type": "code",
   "execution_count": null,
   "id": "96bacb83-f883-4c4c-8115-949b4541c6a6",
   "metadata": {},
   "outputs": [],
   "source": [
    "def clean_up_open_ai(key_file = \"open_ai_key/key.txt\"):\n",
    "    import openai\n",
    "    from tqdm import tqdm\n",
    "    with open(key_file, 'r') as f:\n",
    "        secret = f.read()\n",
    "        os.environ[\"OPENAI_API_KEY\"] = secret\n",
    "    client = openai.OpenAI()\n",
    "    files = list(client.files.list())\n",
    "    vector_stores = list(client.beta.vector_stores.list())\n",
    "    my_assistants = list(client.beta.assistants.list())\n",
    "    for store in tqdm(vector_stores):\n",
    "        try:\n",
    "          client.beta.vector_stores.delete(\n",
    "            vector_store_id=store.id\n",
    "          )\n",
    "        except:\n",
    "            pass\n",
    "    for f in tqdm(files):\n",
    "        try:\n",
    "          client.files.delete(\n",
    "            file_id=f.id\n",
    "          )\n",
    "        except:\n",
    "          pass\n",
    "    \n",
    "    for assistant in tqdm(my_assistants):\n",
    "        try:\n",
    "            client.beta.assistants.delete(assistant.id)\n",
    "        except:\n",
    "            pass\n",
    "    \n",
    "    print(client.beta.vector_stores.list())\n",
    "    print(client.files.list())\n",
    "    print(client.beta.assistants.list())"
   ]
  },
  {
   "cell_type": "code",
   "execution_count": null,
   "id": "168eac02-adb8-463c-951b-1a6f8e1667e7",
   "metadata": {},
   "outputs": [],
   "source": [
    "clean_up_open_ai()\n",
    "shutil.rmtree('test_database')\n",
    "shutil.rmtree('test_database_2')"
   ]
  },
  {
   "cell_type": "code",
   "execution_count": null,
   "id": "31db56f9-d40c-4a0b-82ef-7b72acddb2d5",
   "metadata": {},
   "outputs": [],
   "source": []
  }
 ],
 "metadata": {
  "kernelspec": {
   "display_name": "Python 3 (ipykernel)",
   "language": "python",
   "name": "python3"
  },
  "language_info": {
   "codemirror_mode": {
    "name": "ipython",
    "version": 3
   },
   "file_extension": ".py",
   "mimetype": "text/x-python",
   "name": "python",
   "nbconvert_exporter": "python",
   "pygments_lexer": "ipython3",
   "version": "3.13.1"
  }
 },
 "nbformat": 4,
 "nbformat_minor": 5
}
